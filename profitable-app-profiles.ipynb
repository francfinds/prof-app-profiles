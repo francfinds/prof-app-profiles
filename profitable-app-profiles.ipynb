{
 "cells": [
  {
   "cell_type": "markdown",
   "metadata": {},
   "source": [
    "# Profitable app concepts on Google Play and Apple App store\n",
    "\n",
    "In this project we'll determine the most profitable App categories/concepts on the Apple Store and Google Play markets.\n",
    "\n",
    "As the data analysts on our team, we provide our company with data driven suggestions. Our analyses assists the developers in building effective add revenue paythways within the (free to download) categories on both the Google Play and Apple App store.\n",
    "\n",
    "### Opening and Exploring the Data\n",
    "\n",
    "As of September 2018, there were approximately 2 million iOS apps available on the App Store, and 2.1 million Android apps on Google Play.\n",
    "\n",
    "Collecting data for over four million apps requires a significant amount of time and money, so we'll try to analyze a sample of data instead. To avoid spending resources with collecting new data ourselves, we should first try to see whether we can find any relevant existing data at no cost. Luckily, these are two data sets that seem suitable for our purpose:\n",
    "\n",
    "- [A data set](https://www.kaggle.com/lava18/google-play-store-apps) containing data about approximately ten thousand Android apps from Google Play. You can download the data set directly from [this link](https://dq-content.s3.amazonaws.com/350/googleplaystore.csv).\n",
    "\n",
    "- [A data set](https://www.kaggle.com/ramamet4/app-store-apple-data-set-10k-apps) containing data about approximately seven thousand iOS apps from the App Store. You can download the data set directly from [this link](https://dq-content.s3.amazonaws.com/350/AppleStore.csv).\n",
    "\n",
    "Let's start by opening the two data sets and then continue with exploring the data.\n"
   ]
  },
  {
   "cell_type": "code",
   "execution_count": 1,
   "metadata": {},
   "outputs": [],
   "source": [
    "from csv import reader\n",
    "\n",
    "### Google Play Store ###\n",
    "opened_file = open('/Users/francfinds/Google Drive/Data Science/my_datasets/googleplaystore.csv')\n",
    "read_file = reader(opened_file)\n",
    "android = list(read_file)\n",
    "android_header = android[0]\n",
    "android = android[1:]\n",
    "\n",
    "### Apple App Store ###\n",
    "opened_file = open('/Users/francfinds/Google Drive/Data Science/my_datasets/AppleStore.csv')\n",
    "read_file = reader(opened_file)\n",
    "ios = list(read_file)\n",
    "ios_header = ios[0]\n",
    "ios = ios[1:]\n",
    "\n"
   ]
  },
  {
   "cell_type": "markdown",
   "metadata": {},
   "source": [
    "\n",
    "To make it easier to explore the two data sets, we'll first write a function named explore_data() that we can use repeatedly to explore rows in a more readable way. We'll also add an option for our function to show the number of rows and columns for any data set."
   ]
  },
  {
   "cell_type": "code",
   "execution_count": 4,
   "metadata": {
    "tags": []
   },
   "outputs": [
    {
     "output_type": "stream",
     "name": "stdout",
     "text": "['App', 'Category', 'Rating', 'Reviews', 'Size', 'Installs', 'Type', 'Price', 'Content Rating', 'Genres', 'Last Updated', 'Current Ver', 'Android Ver']\n\n\n['Photo Editor & Candy Camera & Grid & ScrapBook', 'ART_AND_DESIGN', '4.1', '159', '19M', '10,000+', 'Free', '0', 'Everyone', 'Art & Design', 'January 7, 2018', '1.0.0', '4.0.3 and up']\n\n\n['Coloring book moana', 'ART_AND_DESIGN', '3.9', '967', '14M', '500,000+', 'Free', '0', 'Everyone', 'Art & Design;Pretend Play', 'January 15, 2018', '2.0.0', '4.0.3 and up']\n\n\n['U Launcher Lite – FREE Live Cool Themes, Hide Apps', 'ART_AND_DESIGN', '4.7', '87510', '8.7M', '5,000,000+', 'Free', '0', 'Everyone', 'Art & Design', 'August 1, 2018', '1.2.4', '4.0.3 and up']\n\n\nNumber of rows: 10841\nNumber of columns: 13\n"
    }
   ],
   "source": [
    "def explore_data(dataset, start, end, rows_and_columns=False):\n",
    "    dataset_slice = dataset[start:end]    \n",
    "    for row in dataset_slice:\n",
    "        print(row)\n",
    "        print('\\n') # adds a new (empty) line between rows\n",
    "        \n",
    "    if rows_and_columns:\n",
    "        print('Number of rows:', len(dataset))\n",
    "        print('Number of columns:', len(dataset[0]))\n",
    "\n",
    "print(android_header)\n",
    "print('\\n')\n",
    "explore_data(android, 0, 3, True)"
   ]
  },
  {
   "cell_type": "markdown",
   "metadata": {},
   "source": [
    "Here we can see that the Google Play store data set has 10841 apps and 13 columns listed. The columns that could be usful in our analysis are: 'App', 'Category', 'Rating', 'Reviews', 'Installs', 'Type', 'Price', 'Content Rating', and 'Genres'.\n",
    "\n",
    "#### Lets review the data from the Apple store."
   ]
  },
  {
   "cell_type": "code",
   "execution_count": 5,
   "metadata": {
    "tags": []
   },
   "outputs": [
    {
     "output_type": "stream",
     "name": "stdout",
     "text": "['', 'id', 'track_name', 'size_bytes', 'currency', 'price', 'rating_count_tot', 'rating_count_ver', 'user_rating', 'user_rating_ver', 'ver', 'cont_rating', 'prime_genre', 'sup_devices.num', 'ipadSc_urls.num', 'lang.num', 'vpp_lic']\n\n\n['1', '281656475', 'PAC-MAN Premium', '100788224', 'USD', '3.99', '21292', '26', '4', '4.5', '6.3.5', '4+', 'Games', '38', '5', '10', '1']\n\n\n['2', '281796108', 'Evernote - stay organized', '158578688', 'USD', '0', '161065', '26', '4', '3.5', '8.2.2', '4+', 'Productivity', '37', '5', '23', '1']\n\n\n['3', '281940292', 'WeatherBug - Local Weather, Radar, Maps, Alerts', '100524032', 'USD', '0', '188583', '2822', '3.5', '4.5', '5.0.0', '4+', 'Weather', '37', '5', '3', '1']\n\n\nNumber of rows: 7197\nNumber of columns: 17\n"
    }
   ],
   "source": [
    "print(ios_header)\n",
    "print('\\n')\n",
    "explore_data(ios, 0, 3, True)"
   ]
  },
  {
   "cell_type": "markdown",
   "metadata": {},
   "source": [
    "The Apple store has 7197 Apps and 17 columns listed. The columns that could be useful here are: 'track_name', 'currency', 'price', 'rating_count_tot', 'rating_count_ver', and 'prime_genre'.\n",
    "\n",
    "Not all column names are self-explanatory in this case, but details about each column can be found in the data set [documentation](https://www.kaggle.com/ramamet4/app-store-apple-data-set-10k-apps/home).\n",
    "\n",
    "\n",
    "We noticed on the Kaggle Discussion board for the Google data set that one of the Apps had missing column data. To simplify our analysis we'll remove this row from our data.\n",
    "\n",
    "#### First let's print the error row beside an accurate example for reference.\n",
    "\n"
   ]
  },
  {
   "cell_type": "code",
   "execution_count": 6,
   "metadata": {
    "tags": []
   },
   "outputs": [
    {
     "output_type": "stream",
     "name": "stdout",
     "text": "['App', 'Category', 'Rating', 'Reviews', 'Size', 'Installs', 'Type', 'Price', 'Content Rating', 'Genres', 'Last Updated', 'Current Ver', 'Android Ver']\n\n\n['Life Made WI-Fi Touchscreen Photo Frame', '1.9', '19', '3.0M', '1,000+', 'Free', '0', 'Everyone', '', 'February 11, 2018', '1.0.19', '4.0 and up']\n\n\n['osmino Wi-Fi: free WiFi', 'TOOLS', '4.2', '134203', '4.1M', '10,000,000+', 'Free', '0', 'Everyone', 'Tools', 'August 7, 2018', '6.06.14', '4.4 and up']\n"
    }
   ],
   "source": [
    "print(android_header)\n",
    "print('\\n')\n",
    "print(android[10472]) #target (incorrect row)\n",
    "print('\\n')\n",
    "print(android[10473]) #example (correct row)"
   ]
  },
  {
   "cell_type": "markdown",
   "metadata": {},
   "source": [
    "#### Now let's delete the incorrect row."
   ]
  },
  {
   "cell_type": "code",
   "execution_count": 7,
   "metadata": {
    "tags": []
   },
   "outputs": [
    {
     "output_type": "stream",
     "name": "stdout",
     "text": "10841\n10840\n"
    }
   ],
   "source": [
    "print(len(android))\n",
    "del android[10472]\n",
    "print(len(android))"
   ]
  },
  {
   "cell_type": "markdown",
   "metadata": {},
   "source": [
    "After reading more about our data sets on the [Kaggle Discussion board](https://www.kaggle.com/ramamet4/app-store-apple-data-set-10k-apps/discussion) we learnt that there are numerous duplicate apps. Firstly we'll need to find these duplicate rows and then prune them out.\n",
    "\n",
    "#### Here's an expample of how 'Viber Messenger' has 5 entries in the Android data set.\n",
    "\n",
    "You'll notice that the data varies amongst these duplicates. We'll need to keep the most accurate data by selecting the entry with the most user reviews. This would suggest the data is a more recent entry.\n",
    "\n",
    "\n",
    "\n"
   ]
  },
  {
   "cell_type": "code",
   "execution_count": 8,
   "metadata": {
    "tags": []
   },
   "outputs": [
    {
     "output_type": "stream",
     "name": "stdout",
     "text": "['App', 'Category', 'Rating', 'Reviews', 'Size', 'Installs', 'Type', 'Price', 'Content Rating', 'Genres', 'Last Updated', 'Current Ver', 'Android Ver']\n\n\n['Viber Messenger', 'COMMUNICATION', '4.3', '11334799', 'Varies with device', '500,000,000+', 'Free', '0', 'Everyone', 'Communication', 'July 18, 2018', 'Varies with device', 'Varies with device']\n['Viber Messenger', 'COMMUNICATION', '4.3', '11334973', 'Varies with device', '500,000,000+', 'Free', '0', 'Everyone', 'Communication', 'July 18, 2018', 'Varies with device', 'Varies with device']\n['Viber Messenger', 'COMMUNICATION', '4.3', '11334973', 'Varies with device', '500,000,000+', 'Free', '0', 'Everyone', 'Communication', 'July 18, 2018', 'Varies with device', 'Varies with device']\n['Viber Messenger', 'COMMUNICATION', '4.3', '11335255', 'Varies with device', '500,000,000+', 'Free', '0', 'Everyone', 'Communication', 'July 18, 2018', 'Varies with device', 'Varies with device']\n['Viber Messenger', 'COMMUNICATION', '4.3', '11335481', 'Varies with device', '500,000,000+', 'Free', '0', 'Everyone', 'Communication', 'July 18, 2018', 'Varies with device', 'Varies with device']\n"
    }
   ],
   "source": [
    "print(android_header)\n",
    "print('\\n')\n",
    "\n",
    "for app in android:\n",
    "    name = app[0]\n",
    "    if name == 'Viber Messenger':\n",
    "        print(app)\n"
   ]
  },
  {
   "cell_type": "code",
   "execution_count": 9,
   "metadata": {
    "tags": []
   },
   "outputs": [
    {
     "output_type": "stream",
     "name": "stdout",
     "text": "['', 'id', 'track_name', 'size_bytes', 'currency', 'price', 'rating_count_tot', 'rating_count_ver', 'user_rating', 'user_rating_ver', 'ver', 'cont_rating', 'prime_genre', 'sup_devices.num', 'ipadSc_urls.num', 'lang.num', 'vpp_lic']\n\n\n['591', '389801252', 'Instagram', '113954816', 'USD', '0', '2161558', '1289', '4.5', '4', '10.23', '12+', 'Photo & Video', '37', '0', '29', '1']\n"
    }
   ],
   "source": [
    "print(ios_header)\n",
    "print('\\n')\n",
    "\n",
    "for app in ios:\n",
    "    name = app[2]\n",
    "    if name == 'Instagram':\n",
    "        print(app)"
   ]
  },
  {
   "cell_type": "markdown",
   "metadata": {},
   "source": [
    "#### So the next step we'll need to isolate these duplicate entries to prepare for cleaning."
   ]
  },
  {
   "cell_type": "markdown",
   "metadata": {},
   "source": [
    "As you can see above we have 1181 duplicate apps in the Android data set. If we subtract this from the total App count we'll get 9659 unique Apps.\n",
    "\n",
    "To remove the duplicates, we will:\n",
    "\n",
    "- Create a dictionary, where each dictionary key is a unique app name and the corresponding dictionary value is the highest number of reviews of that app.\n",
    "- Use the information stored in the dictionary and create a new data set, which will have only one entry per app (and for each app, we'll only select the entry with the highest number of reviews).\n",
    "\n",
    "#### Lets build the dictionary."
   ]
  },
  {
   "cell_type": "code",
   "execution_count": 10,
   "metadata": {},
   "outputs": [],
   "source": [
    "reviews_max = {}\n",
    "\n",
    "for app in android:\n",
    "    name = app[0]\n",
    "    n_reviews = float(app[3])\n",
    "\n",
    "    if name in reviews_max and reviews_max[name] < n_reviews:\n",
    "        reviews_max[name] =  n_reviews\n",
    "\n",
    "    elif name not in reviews_max:\n",
    "        reviews_max[name] = n_reviews\n",
    "\n",
    "    "
   ]
  },
  {
   "cell_type": "markdown",
   "metadata": {},
   "source": [
    "\n",
    "In a previous code cell, we found that there are 1,181 cases where an app occurs more than once, so the length of our dictionary (of unique apps) should be equal to the difference between the length of our data set and 1,181."
   ]
  },
  {
   "cell_type": "code",
   "execution_count": 11,
   "metadata": {
    "tags": []
   },
   "outputs": [
    {
     "output_type": "stream",
     "name": "stdout",
     "text": "Expected length: 9659\nActual length 9659\n"
    }
   ],
   "source": [
    "print('Expected length:', len(android) - 1181) \n",
    "print('Actual length', len(reviews_max))"
   ]
  },
  {
   "cell_type": "markdown",
   "metadata": {},
   "source": [
    "Now we're ready to remove the duplicate rows using the reviews_max dictionary. Remember, we're only interested in keeping the most recent entry with the highest review count.\n",
    "\n",
    "\n",
    "- We'll Start by creating two empty lists: android_clean (which will store our new cleaned data set) and already_added (which will help us keep track of apps we've already added.).\n",
    "\n",
    "- Loop through the Google Play data set, and for each iteration:\n",
    "    * Assign the app name to a variable 'name'.\n",
    "    * Convert the number of reviews to float, and assign it to a variable named n_reviews.\n",
    "\n",
    "- If n_reviews is the same as the number of maximum reviews of the app name and name is not already in the list already_added:\n",
    "    - Append the entire row to the android_clean list (which will eventually be a list of list and store the cleaned data set).\n",
    "    - Append the name of the app name to the already_added list \n",
    "\n"
   ]
  },
  {
   "cell_type": "code",
   "execution_count": 12,
   "metadata": {},
   "outputs": [],
   "source": [
    "android_clean = []\n",
    "already_added = []\n",
    "\n",
    "for app in android:\n",
    "    name = app[0]\n",
    "    n_reviews = float(app[3])\n",
    "    if (reviews_max[name] == n_reviews) and (name not in already_added):\n",
    "        android_clean.append(app)\n",
    "        already_added.append(name)\n",
    "\n"
   ]
  },
  {
   "cell_type": "markdown",
   "metadata": {},
   "source": [
    "Now we can explore the new data set to confirm we have 9659 apps listed.\n"
   ]
  },
  {
   "cell_type": "code",
   "execution_count": 13,
   "metadata": {
    "tags": []
   },
   "outputs": [
    {
     "output_type": "stream",
     "name": "stdout",
     "text": "['Photo Editor & Candy Camera & Grid & ScrapBook', 'ART_AND_DESIGN', '4.1', '159', '19M', '10,000+', 'Free', '0', 'Everyone', 'Art & Design', 'January 7, 2018', '1.0.0', '4.0.3 and up']\n\n\n['U Launcher Lite – FREE Live Cool Themes, Hide Apps', 'ART_AND_DESIGN', '4.7', '87510', '8.7M', '5,000,000+', 'Free', '0', 'Everyone', 'Art & Design', 'August 1, 2018', '1.2.4', '4.0.3 and up']\n\n\n['Sketch - Draw & Paint', 'ART_AND_DESIGN', '4.5', '215644', '25M', '50,000,000+', 'Free', '0', 'Teen', 'Art & Design', 'June 8, 2018', 'Varies with device', '4.2 and up']\n\n\nNumber of rows: 9659\nNumber of columns: 13\n"
    }
   ],
   "source": [
    "explore_data(android_clean, 0, 3, True)"
   ]
  },
  {
   "cell_type": "markdown",
   "metadata": {},
   "source": [
    "Great! we have 9659 apps in our Android revised data set. Luckily the iOS data set doesn't have duplicates, but we can refine the data further.\n",
    "\n",
    "If you explore the data sets you'll notice many apps are non-english and in laguages that won't serve our purpose, so we'll need to clean those out. Here are a few expamples from both data sets.\n",
    "\n",
    "\n"
   ]
  },
  {
   "cell_type": "code",
   "execution_count": 14,
   "metadata": {
    "tags": []
   },
   "outputs": [
    {
     "output_type": "stream",
     "name": "stdout",
     "text": "マンガ図書館Z -人気漫画が読み放題！\nGANMA! - 漫画が制限ナシで読み放題のマンガアプリ\n中国語 AQリスニング\nلعبة تقدر تربح DZ\n"
    }
   ],
   "source": [
    "print(ios[3007][2])\n",
    "print(ios[2200][2])\n",
    "\n",
    "print(android_clean[4412][0])\n",
    "print(android_clean[7940][0])"
   ]
  },
  {
   "cell_type": "markdown",
   "metadata": {},
   "source": [
    "\n",
    "We're not interested in keeping none-English apps, so we'll remove them. One way to go about this is to remove each app whose name contains a symbol that is not commonly used in English text — English text usually includes letters from the English alphabet, numbers composed of digits from 0 to 9, punctuation marks (., !, ?, ;, etc.), and other symbols (+, *, /, etc.).\n",
    "\n",
    "All these characters that are specific to English texts are encoded using the ASCII standard. Each ASCII character has a corresponding number between 0 and 127 associated with it, and we can take advantage of that to build a function that checks an app name and tells us whether it contains non-ASCII characters.\n",
    "\n",
    "We built this function below, and we use the built-in ord() function to find out the corresponding encoding number of each character."
   ]
  },
  {
   "cell_type": "code",
   "execution_count": 15,
   "metadata": {
    "tags": []
   },
   "outputs": [
    {
     "output_type": "stream",
     "name": "stdout",
     "text": "True\nFalse\n"
    }
   ],
   "source": [
    "def is_english(string):\n",
    "    \n",
    "    for character in string:\n",
    "        if ord(character) > 127:\n",
    "            return False\n",
    "    \n",
    "    return True\n",
    "\n",
    "print(is_english('Instagram'))\n",
    "print(is_english('マンガ図書館Z -人気漫画が読み放題!'))"
   ]
  },
  {
   "cell_type": "markdown",
   "metadata": {},
   "source": [
    "Some English app names use emojis or other symbols (™, — (em dash), – (en dash), etc.) that fall outside of the ASCII range. Because of this, we'll remove useful apps if we use the function in its current form.\n"
   ]
  },
  {
   "cell_type": "code",
   "execution_count": 16,
   "metadata": {
    "tags": []
   },
   "outputs": [
    {
     "output_type": "stream",
     "name": "stdout",
     "text": "False\nFalse\n8482\n128540\n"
    }
   ],
   "source": [
    "print(is_english('Docs To Go™ Free Office Suite'))\n",
    "print(is_english('Instachat 😜'))\n",
    "\n",
    "print(ord('™'))\n",
    "print(ord('😜'))"
   ]
  },
  {
   "cell_type": "code",
   "execution_count": 17,
   "metadata": {
    "tags": []
   },
   "outputs": [
    {
     "output_type": "stream",
     "name": "stdout",
     "text": "True\nTrue\n"
    }
   ],
   "source": [
    "def is_english(string):\n",
    "    non_ascii = 0\n",
    "    \n",
    "    for character in string:\n",
    "        if ord(character) > 127:\n",
    "            non_ascii += 1\n",
    "    \n",
    "    if non_ascii > 3:\n",
    "        return False\n",
    "    else:\n",
    "        return True\n",
    "\n",
    "print(is_english('Docs To Go™ Free Office Suite'))\n",
    "print(is_english('Instachat 😜'))"
   ]
  },
  {
   "cell_type": "markdown",
   "metadata": {},
   "source": [
    "The function is still not perfect, and very few non-English apps might get past our filter, but this seems good enough at this point in our analysis"
   ]
  },
  {
   "cell_type": "code",
   "execution_count": 18,
   "metadata": {
    "tags": []
   },
   "outputs": [
    {
     "output_type": "stream",
     "name": "stdout",
     "text": "['Photo Editor & Candy Camera & Grid & ScrapBook', 'ART_AND_DESIGN', '4.1', '159', '19M', '10,000+', 'Free', '0', 'Everyone', 'Art & Design', 'January 7, 2018', '1.0.0', '4.0.3 and up']\n\n\n['U Launcher Lite – FREE Live Cool Themes, Hide Apps', 'ART_AND_DESIGN', '4.7', '87510', '8.7M', '5,000,000+', 'Free', '0', 'Everyone', 'Art & Design', 'August 1, 2018', '1.2.4', '4.0.3 and up']\n\n\n['Sketch - Draw & Paint', 'ART_AND_DESIGN', '4.5', '215644', '25M', '50,000,000+', 'Free', '0', 'Teen', 'Art & Design', 'June 8, 2018', 'Varies with device', '4.2 and up']\n\n\nNumber of rows: 9614\nNumber of columns: 13\n\n\n['1', '281656475', 'PAC-MAN Premium', '100788224', 'USD', '3.99', '21292', '26', '4', '4.5', '6.3.5', '4+', 'Games', '38', '5', '10', '1']\n\n\n['2', '281796108', 'Evernote - stay organized', '158578688', 'USD', '0', '161065', '26', '4', '3.5', '8.2.2', '4+', 'Productivity', '37', '5', '23', '1']\n\n\n['3', '281940292', 'WeatherBug - Local Weather, Radar, Maps, Alerts', '100524032', 'USD', '0', '188583', '2822', '3.5', '4.5', '5.0.0', '4+', 'Weather', '37', '5', '3', '1']\n\n\nNumber of rows: 6183\nNumber of columns: 17\n"
    }
   ],
   "source": [
    "android_english = []\n",
    "ios_english = []\n",
    "\n",
    "for app in android_clean:\n",
    "    name = app[0]\n",
    "    if is_english(name):\n",
    "        android_english.append(app)\n",
    "        \n",
    "for app in ios:\n",
    "    name = app[2]\n",
    "    if is_english(name):\n",
    "        ios_english.append(app)\n",
    "        \n",
    "explore_data(android_english, 0, 3, True)\n",
    "print('\\n')\n",
    "explore_data(ios_english, 0, 3, True)"
   ]
  },
  {
   "cell_type": "markdown",
   "metadata": {},
   "source": [
    "Our data sets contain both free and non-free apps, and we'll need to isolate only the free apps for our analysis. Below, we isolate the free apps for both our data sets."
   ]
  },
  {
   "cell_type": "code",
   "execution_count": 37,
   "metadata": {
    "tags": []
   },
   "outputs": [
    {
     "output_type": "stream",
     "name": "stdout",
     "text": "8864\n3222\n"
    }
   ],
   "source": [
    "android_final = []\n",
    "ios_final = []\n",
    "\n",
    "for app in android_english:\n",
    "    price = app[7]\n",
    "    if price == '0':\n",
    "        android_final.append(app)\n",
    "        \n",
    "for app in ios_english:\n",
    "    price = app[5]\n",
    "    if price == '0':\n",
    "        ios_final.append(app)\n",
    "        \n",
    "print(len(android_final))\n",
    "print(len(ios_final))"
   ]
  },
  {
   "cell_type": "markdown",
   "metadata": {},
   "source": [
    "We now have 8864 Android and 3222 Apple apps in our refined data sets. This should be enough data for our analysis. "
   ]
  },
  {
   "cell_type": "markdown",
   "metadata": {},
   "source": [
    "## Most Common Apps by Genre\n",
    "\n",
    "### Part One\n",
    "\n",
    "As we mentioned in the introduction, our aim is to determine the kinds of apps that are likely to attract more users because our revenue is highly influenced by the number of people using our apps.\n",
    "\n",
    "To minimize risks and overhead, our validation strategy for an app idea is comprised of three steps:\n",
    "\n",
    "1. Build a minimal Android version of the app, and add it to Google Play.\n",
    "2. If the app has a good response from users, we then develop it further.\n",
    "3. If the app is profitable after six months, we also build an iOS version of the app and add it to the App Store.\n",
    "\n",
    "Because our end goal is to add the app on both the App Store and Google Play, we need to find app profiles that are successful on both markets. For instance, a profile that might work well for both markets might be a productivity app that makes use of gamification.\n",
    "\n",
    "Let's begin the analysis by getting a sense of the most common genres for each market. For this, we'll build a frequency table for the prime_genre column of the App Store data set, and the Genres and Category columns of the Google Play data set.\n",
    "\n",
    "### Part Two\n",
    "\n",
    "We'll build two functions we can use to analyze the frequency tables:\n",
    "\n",
    "- One function to generate frequency tables that show percentages\n",
    "- Another function that we can use to display the percentages in a descending order"
   ]
  },
  {
   "cell_type": "code",
   "execution_count": 38,
   "metadata": {},
   "outputs": [],
   "source": [
    "def freq_table(dataset, index):\n",
    "    table = {}\n",
    "    total = 0\n",
    "\n",
    "    for row in dataset:\n",
    "        total += 1\n",
    "        value = row[index]\n",
    "        if value in table:\n",
    "            table[value] += 1\n",
    "        else:\n",
    "            table[value] = 1\n",
    "\n",
    "    table_percentages = {}\n",
    "    for key in table:\n",
    "        percentage = (table[key] / total) * 100\n",
    "        table_percentages[key] = percentage\n",
    "        \n",
    "    return table_percentages\n",
    "\n",
    "\n",
    "def display_table(dataset, index):\n",
    "    table = freq_table(dataset, index)\n",
    "    table_display = []\n",
    "    for key in table:\n",
    "        key_val_as_tuple = (table[key], key)\n",
    "        table_display.append(key_val_as_tuple)\n",
    "\n",
    "    table_sorted = sorted(table_display, reverse = True)\n",
    "    for entry in table_sorted:\n",
    "        print(entry[1], ':', entry[0])\n",
    "\n",
    "\n"
   ]
  },
  {
   "cell_type": "markdown",
   "metadata": {},
   "source": [
    "## Part Three\n",
    "We start by examining the frequency table for the prime_genre column of the App Store data set."
   ]
  },
  {
   "cell_type": "code",
   "execution_count": 39,
   "metadata": {
    "tags": []
   },
   "outputs": [
    {
     "output_type": "stream",
     "name": "stdout",
     "text": "Games : 58.16263190564867\nEntertainment : 7.883302296710118\nPhoto & Video : 4.9658597144630665\nEducation : 3.662321539416512\nSocial Networking : 3.2898820608317814\nShopping : 2.60707635009311\nUtilities : 2.5139664804469275\nSports : 2.1415270018621975\nMusic : 2.0484171322160147\nHealth & Fitness : 2.0173805090006205\nProductivity : 1.7380509000620732\nLifestyle : 1.5828677839851024\nNews : 1.3345747982619491\nTravel : 1.2414649286157666\nFinance : 1.1173184357541899\nWeather : 0.8690254500310366\nFood & Drink : 0.8069522036002483\nReference : 0.5586592178770949\nBusiness : 0.5276225946617008\nBook : 0.4345127250155183\nNavigation : 0.186219739292365\nMedical : 0.186219739292365\nCatalogs : 0.12414649286157665\n"
    }
   ],
   "source": [
    "display_table(ios_final, -5)"
   ]
  },
  {
   "cell_type": "markdown",
   "metadata": {},
   "source": [
    "We can see that among the free English apps, more than a half (58.16%) are games. Entertainment apps are close to 8%, followed by photo and video apps, which are close to 5%. Only 3.66% of the apps are designed for education, followed by social networking apps which amount for 3.29% of the apps in our data set.\n",
    "\n",
    "The general impression is that App Store (at least the part containing free English apps) is dominated by apps that are designed for fun (games, entertainment, photo and video, social networking, sports, music, etc.), while apps with practical purposes (education, shopping, utilities, productivity, lifestyle, etc.) are more rare. However, the fact that fun apps are the most numerous doesn't also imply that they also have the greatest number of users — the demand might not be the same as the offer.\n",
    "\n",
    "Let's continue by examining the Genres and Category columns of the Google Play data set (two columns which seem to be related)."
   ]
  },
  {
   "cell_type": "code",
   "execution_count": 40,
   "metadata": {
    "tags": []
   },
   "outputs": [
    {
     "output_type": "stream",
     "name": "stdout",
     "text": "FAMILY : 18.907942238267147\nGAME : 9.724729241877256\nTOOLS : 8.461191335740072\nBUSINESS : 4.591606498194946\nLIFESTYLE : 3.9034296028880866\nPRODUCTIVITY : 3.892148014440433\nFINANCE : 3.7003610108303246\nMEDICAL : 3.531137184115524\nSPORTS : 3.395758122743682\nPERSONALIZATION : 3.3167870036101084\nCOMMUNICATION : 3.2378158844765346\nHEALTH_AND_FITNESS : 3.0798736462093865\nPHOTOGRAPHY : 2.944494584837545\nNEWS_AND_MAGAZINES : 2.7978339350180503\nSOCIAL : 2.6624548736462095\nTRAVEL_AND_LOCAL : 2.33528880866426\nSHOPPING : 2.2450361010830324\nBOOKS_AND_REFERENCE : 2.1435018050541514\nDATING : 1.861462093862816\nVIDEO_PLAYERS : 1.7937725631768955\nMAPS_AND_NAVIGATION : 1.3989169675090252\nFOOD_AND_DRINK : 1.2409747292418771\nEDUCATION : 1.1620036101083033\nENTERTAINMENT : 0.9589350180505415\nLIBRARIES_AND_DEMO : 0.9363718411552346\nAUTO_AND_VEHICLES : 0.9250902527075812\nHOUSE_AND_HOME : 0.8235559566787004\nWEATHER : 0.8009927797833934\nEVENTS : 0.7107400722021661\nPARENTING : 0.6543321299638989\nART_AND_DESIGN : 0.6430505415162455\nCOMICS : 0.6204873646209386\nBEAUTY : 0.5979241877256317\n"
    }
   ],
   "source": [
    "display_table(android_final, 1) # Category"
   ]
  },
  {
   "cell_type": "markdown",
   "metadata": {},
   "source": [
    "The landscape seems significantly different on Google Play: there are not that many apps designed for fun, and it seems that a good number of apps are designed for practical purposes (family, tools, business, lifestyle, productivity, etc.). However, if we investigate this further, we can see that the family category (which accounts for almost 19% of the apps) means mostly games for kids.\n",
    "\n",
    "![Image](https://camo.githubusercontent.com/9bf24b9efc3d88a3d55f5c09e314987941f0bab5/68747470733a2f2f73332e616d617a6f6e6177732e636f6d2f64712d636f6e74656e742f3335302f7079316d385f66616d696c792e706e67)\n",
    "\n",
    "Even so, practical apps seem to have a better representation on Google Play compared to App Store. This picture is also confirmed by the frequency table we see for the Genres column:\n"
   ]
  },
  {
   "cell_type": "code",
   "execution_count": 41,
   "metadata": {
    "tags": []
   },
   "outputs": [
    {
     "output_type": "stream",
     "name": "stdout",
     "text": "Tools : 8.449909747292418\nEntertainment : 6.069494584837545\nEducation : 5.347472924187725\nBusiness : 4.591606498194946\nProductivity : 3.892148014440433\nLifestyle : 3.892148014440433\nFinance : 3.7003610108303246\nMedical : 3.531137184115524\nSports : 3.463447653429603\nPersonalization : 3.3167870036101084\nCommunication : 3.2378158844765346\nAction : 3.1024368231046933\nHealth & Fitness : 3.0798736462093865\nPhotography : 2.944494584837545\nNews & Magazines : 2.7978339350180503\nSocial : 2.6624548736462095\nTravel & Local : 2.3240072202166067\nShopping : 2.2450361010830324\nBooks & Reference : 2.1435018050541514\nSimulation : 2.0419675090252705\nDating : 1.861462093862816\nArcade : 1.8501805054151623\nVideo Players & Editors : 1.7712093862815883\nCasual : 1.7599277978339352\nMaps & Navigation : 1.3989169675090252\nFood & Drink : 1.2409747292418771\nPuzzle : 1.128158844765343\nRacing : 0.9927797833935018\nRole Playing : 0.9363718411552346\nLibraries & Demo : 0.9363718411552346\nAuto & Vehicles : 0.9250902527075812\nStrategy : 0.9138086642599278\nHouse & Home : 0.8235559566787004\nWeather : 0.8009927797833934\nEvents : 0.7107400722021661\nAdventure : 0.6768953068592057\nComics : 0.6092057761732852\nBeauty : 0.5979241877256317\nArt & Design : 0.5979241877256317\nParenting : 0.4963898916967509\nCard : 0.45126353790613716\nCasino : 0.42870036101083037\nTrivia : 0.41741877256317694\nEducational;Education : 0.39485559566787\nBoard : 0.3835740072202166\nEducational : 0.3722924187725632\nEducation;Education : 0.33844765342960287\nWord : 0.2594765342960289\nCasual;Pretend Play : 0.236913357400722\nMusic : 0.2030685920577617\nRacing;Action & Adventure : 0.16922382671480143\nPuzzle;Brain Games : 0.16922382671480143\nEntertainment;Music & Video : 0.16922382671480143\nCasual;Brain Games : 0.13537906137184114\nCasual;Action & Adventure : 0.13537906137184114\nArcade;Action & Adventure : 0.12409747292418773\nAction;Action & Adventure : 0.10153429602888085\nEducational;Pretend Play : 0.09025270758122744\nSimulation;Action & Adventure : 0.078971119133574\nParenting;Education : 0.078971119133574\nEntertainment;Brain Games : 0.078971119133574\nBoard;Brain Games : 0.078971119133574\nParenting;Music & Video : 0.06768953068592057\nEducational;Brain Games : 0.06768953068592057\nCasual;Creativity : 0.06768953068592057\nArt & Design;Creativity : 0.06768953068592057\nEducation;Pretend Play : 0.056407942238267145\nRole Playing;Pretend Play : 0.04512635379061372\nEducation;Creativity : 0.04512635379061372\nRole Playing;Action & Adventure : 0.033844765342960284\nPuzzle;Action & Adventure : 0.033844765342960284\nEntertainment;Creativity : 0.033844765342960284\nEntertainment;Action & Adventure : 0.033844765342960284\nEducational;Creativity : 0.033844765342960284\nEducational;Action & Adventure : 0.033844765342960284\nEducation;Music & Video : 0.033844765342960284\nEducation;Brain Games : 0.033844765342960284\nEducation;Action & Adventure : 0.033844765342960284\nAdventure;Action & Adventure : 0.033844765342960284\nVideo Players & Editors;Music & Video : 0.02256317689530686\nSports;Action & Adventure : 0.02256317689530686\nSimulation;Pretend Play : 0.02256317689530686\nPuzzle;Creativity : 0.02256317689530686\nMusic;Music & Video : 0.02256317689530686\nEntertainment;Pretend Play : 0.02256317689530686\nCasual;Education : 0.02256317689530686\nBoard;Action & Adventure : 0.02256317689530686\nVideo Players & Editors;Creativity : 0.01128158844765343\nTrivia;Education : 0.01128158844765343\nTravel & Local;Action & Adventure : 0.01128158844765343\nTools;Education : 0.01128158844765343\nStrategy;Education : 0.01128158844765343\nStrategy;Creativity : 0.01128158844765343\nStrategy;Action & Adventure : 0.01128158844765343\nSimulation;Education : 0.01128158844765343\nRole Playing;Brain Games : 0.01128158844765343\nRacing;Pretend Play : 0.01128158844765343\nPuzzle;Education : 0.01128158844765343\nParenting;Brain Games : 0.01128158844765343\nMusic & Audio;Music & Video : 0.01128158844765343\nLifestyle;Pretend Play : 0.01128158844765343\nLifestyle;Education : 0.01128158844765343\nHealth & Fitness;Education : 0.01128158844765343\nHealth & Fitness;Action & Adventure : 0.01128158844765343\nEntertainment;Education : 0.01128158844765343\nCommunication;Creativity : 0.01128158844765343\nComics;Creativity : 0.01128158844765343\nCasual;Music & Video : 0.01128158844765343\nCard;Action & Adventure : 0.01128158844765343\nBooks & Reference;Education : 0.01128158844765343\nArt & Design;Pretend Play : 0.01128158844765343\nArt & Design;Action & Adventure : 0.01128158844765343\nArcade;Pretend Play : 0.01128158844765343\nAdventure;Education : 0.01128158844765343\n"
    }
   ],
   "source": [
    "display_table(android_final, -4)"
   ]
  },
  {
   "cell_type": "markdown",
   "metadata": {},
   "source": [
    "The difference between the Genres and the Category columns is not crystal clear, but one thing we can notice is that the Genres column is much more granular (it has more categories). We're only looking for the bigger picture at the moment, so we'll only work with the Category column moving forward.\n",
    "\n",
    "Up to this point, we found that the App Store is dominated by apps designed for fun, while Google Play shows a more balanced landscape of both practical and for-fun apps. Now we'd like to get an idea about the kind of apps that have most users.\n",
    "\n",
    "## Most Popular Apps by Genre on the App Store\n",
    "One way to find out what genres are the most popular (have the most users) is to calculate the average number of installs for each app genre. For the Google Play data set, we can find this information in the Installs column, but for the App Store data set this information is missing. As a workaround, we'll take the total number of user ratings as a proxy, which we can find in the rating_count_tot app.\n",
    "\n",
    "Below, we calculate the average number of user ratings per app genre on the App Store:"
   ]
  },
  {
   "cell_type": "code",
   "execution_count": 76,
   "metadata": {
    "tags": []
   },
   "outputs": [
    {
     "output_type": "stream",
     "name": "stdout",
     "text": "Productivity : 21028.410714285714\nWeather : 52279.892857142855\nShopping : 26919.690476190477\nReference : 74942.11111111111\nFinance : 31467.944444444445\nMusic : 57326.530303030304\nUtilities : 18684.456790123455\nTravel : 28243.8\nSocial Networking : 71548.34905660378\nSports : 23008.898550724636\nHealth & Fitness : 23298.015384615384\nGames : 22788.6696905016\nFood & Drink : 33333.92307692308\nNews : 21248.023255813954\nBook : 39758.5\nPhoto & Video : 28441.54375\nEntertainment : 14029.830708661417\nBusiness : 7491.117647058823\nLifestyle : 16485.764705882353\nEducation : 7003.983050847458\nNavigation : 86090.33333333333\nMedical : 612.0\nCatalogs : 4004.0\n"
    }
   ],
   "source": [
    "genres_ios = freq_table(ios_final, -5)\n",
    "\n",
    "for genre in genres_ios:\n",
    "    total = 0\n",
    "    len_genre = 0\n",
    "    for app in ios_final:\n",
    "        genre_app = app[-5]\n",
    "        if genre_app == genre:            \n",
    "            n_ratings = float(app[6])\n",
    "            total += n_ratings\n",
    "            len_genre += 1\n",
    "    avg_n_ratings = total / len_genre\n",
    "    print (genre, ':', avg_n_ratings)\n",
    "\n"
   ]
  },
  {
   "cell_type": "markdown",
   "metadata": {
    "tags": []
   },
   "source": [
    "\n",
    "On average, navigation apps have the highest number of user reviews, but this figure is heavily influenced by Waze and Google Maps, which have close to half a million user reviews together:"
   ]
  },
  {
   "cell_type": "code",
   "execution_count": 89,
   "metadata": {
    "tags": []
   },
   "outputs": [
    {
     "output_type": "stream",
     "name": "stdout",
     "text": "Waze - GPS Navigation, Maps & Real-time Traffic : 345046\nGeocaching® : 12811\nImmobilienScout24: Real Estate Search in Germany : 187\nRailway Route Search : 5\nCoPilot GPS – Car Navigation & Offline Maps : 3582\nGoogle Maps - Navigation & Transit : 154911\n"
    }
   ],
   "source": [
    "for app in ios_final:\n",
    "    if app[-5] == 'Navigation':\n",
    "        print(app[2], ':', app[6]) # print name and number of ratings"
   ]
  },
  {
   "cell_type": "markdown",
   "metadata": {},
   "source": [
    "The same pattern applies to social networking apps, where the average number is heavily influenced by a few giants like Facebook, Pinterest, Skype, etc. Same applies to music apps, where a few big players like Pandora, Spotify, and Shazam heavily influence the average number.\n",
    "\n",
    "Our aim is to find popular genres, but navigation, social networking or music apps might seem more popular than they really are. The average number of ratings seem to be skewed by very few apps which have hundreds of thousands of user ratings, while the other apps may struggle to get past the 10,000 threshold. We could get a better picture by removing these extremely popular apps for each genre and then rework the averages, but we'll leave this level of detail for later.\n",
    "\n",
    "Reference apps have 74,942 user ratings on average, but it's actually the Bible and Dictionary.com which skew up the average rating:"
   ]
  },
  {
   "cell_type": "code",
   "execution_count": 91,
   "metadata": {
    "tags": []
   },
   "outputs": [
    {
     "output_type": "stream",
     "name": "stdout",
     "text": "Bible : 985920\nDictionary.com Dictionary & Thesaurus : 200047\nDictionary.com Dictionary & Thesaurus for iPad : 54175\nMuslim Pro: Ramadan 2017 Prayer Times, Azan, Quran : 18418\nMerriam-Webster Dictionary : 16849\nGoogle Translate : 26786\nNight Sky : 12122\nWWDC : 762\nJishokun-Japanese English Dictionary & Translator : 0\n教えて!goo : 0\nVPN Express : 14\nNew Furniture Mods - Pocket Wiki & Game Tools for Minecraft PC Edition : 17588\nLUCKY BLOCK MOD ™ for Minecraft PC Edition - The Best Pocket Wiki & Mods Installer Tools : 4693\nGuides for Pokémon GO - Pokemon GO News and Cheats : 826\nHorror Maps for Minecraft PE - Download The Scariest Maps for Minecraft Pocket Edition (MCPE) Free : 718\nCity Maps for Minecraft PE - The Best Maps for Minecraft Pocket Edition (MCPE) : 8535\nGUNS MODS for Minecraft PC Edition - Mods Tools : 1497\nReal Bike Traffic Rider Virtual Reality Glasses : 8\n"
    }
   ],
   "source": [
    "for app in ios_final:\n",
    "    if app[-5] == 'Reference':\n",
    "        print(app[2], ':', app[6])"
   ]
  },
  {
   "cell_type": "markdown",
   "metadata": {},
   "source": [
    "However, this niche seems to show some potential. One thing we could do is take another popular book and turn it into an app where we could add different features besides the raw version of the book. This might include daily quotes from the book, an audio version of the book, quizzes about the book, etc. On top of that, we could also embed a dictionary within the app, so users don't need to exit our app to look up words in an external app.\n",
    "\n",
    "This idea seems to fit well with the fact that the App Store is dominated by for-fun apps. This suggests the market might be a bit saturated with for-fun apps, which means a practical app might have more of a chance to stand out among the huge number of apps on the App Store.\n",
    "\n",
    "Other genres that seem popular include weather, book, food and drink, or finance. The book genre seem to overlap a bit with the app idea we described above, but the other genres don't seem too interesting to us:\n",
    "\n",
    "- Weather apps — people generally don't spend too much time in-app, and the chances of making profit from in-app adds are low. Also, getting reliable live weather data may require us to connect our apps to non-free APIs.\n",
    "\n",
    "- Food and drink — examples here include Starbucks, Dunkin' Donuts, McDonald's, etc. So making a popular food and drink app requires actual cooking and a delivery service, which is outside the scope of our company.\n",
    "\n",
    "- Finance apps — these apps involve banking, paying bills, money transfer, etc. Building a finance app requires domain knowledge, and we don't want to hire a finance expert just to build an app.\n",
    "\n",
    "Now let's analyze the Google Play market a bit.\n",
    "\n"
   ]
  },
  {
   "cell_type": "markdown",
   "metadata": {},
   "source": [
    "## Most Popular Apps by Genre on Google Play\n",
    "\n",
    "For the Google Play market, we actually have data about the number of installs, so we should be able to get a clearer picture about genre popularity. However, the install numbers don't seem precise enough — we can see that most values are open-ended (100+, 1,000+, 5,000+, etc.):"
   ]
  },
  {
   "cell_type": "code",
   "execution_count": 92,
   "metadata": {
    "tags": []
   },
   "outputs": [
    {
     "output_type": "stream",
     "name": "stdout",
     "text": "1,000,000+ : 15.726534296028879\n100,000+ : 11.552346570397113\n10,000,000+ : 10.548285198555957\n10,000+ : 10.198555956678701\n1,000+ : 8.393501805054152\n100+ : 6.915613718411552\n5,000,000+ : 6.825361010830325\n500,000+ : 5.561823104693141\n50,000+ : 4.7721119133574\n5,000+ : 4.512635379061372\n10+ : 3.5424187725631766\n500+ : 3.2490974729241873\n50,000,000+ : 2.3014440433213\n100,000,000+ : 2.1322202166064983\n50+ : 1.917870036101083\n5+ : 0.78971119133574\n1+ : 0.5076714801444043\n500,000,000+ : 0.2707581227436823\n1,000,000,000+ : 0.22563176895306858\n0+ : 0.04512635379061372\n0 : 0.01128158844765343\n"
    }
   ],
   "source": [
    "display_table(android_final, 5) # the Installs columns"
   ]
  },
  {
   "cell_type": "markdown",
   "metadata": {},
   "source": [
    "One problem with this data is that is not precise. For instance, we don't know whether an app with 100,000+ installs has 100,000 installs, 200,000, or 350,000. However, we don't need very precise data for our purposes — we only want to get an idea which app genres attract the most users, and we don't need perfect precision with respect to the number of users.\n",
    "\n",
    "We're going to leave the numbers as they are, which means that we'll consider that an app with 100,000+ installs has 100,000 installs, and an app with 1,000,000+ installs has 1,000,000 installs, and so on.\n",
    "\n",
    "To perform computations, however, we'll need to convert each install number to float — this means that we need to remove the commas and the plus characters, otherwise the conversion will fail and raise an error. We'll do this directly in the loop below, where we also compute the average number of installs for each genre (category)."
   ]
  },
  {
   "cell_type": "code",
   "execution_count": 93,
   "metadata": {
    "tags": []
   },
   "outputs": [
    {
     "output_type": "stream",
     "name": "stdout",
     "text": "ART_AND_DESIGN : 1986335.0877192982\nAUTO_AND_VEHICLES : 647317.8170731707\nBEAUTY : 513151.88679245283\nBOOKS_AND_REFERENCE : 8767811.894736841\nBUSINESS : 1712290.1474201474\nCOMICS : 817657.2727272727\nCOMMUNICATION : 38456119.167247385\nDATING : 854028.8303030303\nEDUCATION : 1833495.145631068\nENTERTAINMENT : 11640705.88235294\nEVENTS : 253542.22222222222\nFINANCE : 1387692.475609756\nFOOD_AND_DRINK : 1924897.7363636363\nHEALTH_AND_FITNESS : 4188821.9853479853\nHOUSE_AND_HOME : 1331540.5616438356\nLIBRARIES_AND_DEMO : 638503.734939759\nLIFESTYLE : 1437816.2687861272\nGAME : 15588015.603248259\nFAMILY : 3695641.8198090694\nMEDICAL : 120550.61980830671\nSOCIAL : 23253652.127118643\nSHOPPING : 7036877.311557789\nPHOTOGRAPHY : 17840110.40229885\nSPORTS : 3638640.1428571427\nTRAVEL_AND_LOCAL : 13984077.710144928\nTOOLS : 10801391.298666667\nPERSONALIZATION : 5201482.6122448975\nPRODUCTIVITY : 16787331.344927534\nPARENTING : 542603.6206896552\nWEATHER : 5074486.197183099\nVIDEO_PLAYERS : 24727872.452830188\nNEWS_AND_MAGAZINES : 9549178.467741935\nMAPS_AND_NAVIGATION : 4056941.7741935486\n"
    }
   ],
   "source": [
    "categories_android = freq_table(android_final, 1)\n",
    "\n",
    "for category in categories_android:\n",
    "    total = 0\n",
    "    len_category = 0\n",
    "    for app in android_final:\n",
    "        category_app = app[1]\n",
    "        if category_app == category:            \n",
    "            n_installs = app[5]\n",
    "            n_installs = n_installs.replace(',', '')\n",
    "            n_installs = n_installs.replace('+', '')\n",
    "            total += float(n_installs)\n",
    "            len_category += 1\n",
    "    avg_n_installs = total / len_category\n",
    "    print(category, ':', avg_n_installs)"
   ]
  },
  {
   "cell_type": "markdown",
   "metadata": {},
   "source": [
    "On average, communication apps have the most installs: 38,456,119. This number is heavily skewed up by a few apps that have over one billion installs (WhatsApp, Facebook Messenger, Skype, Google Chrome, Gmail, and Hangouts), and a few others with over 100 and 500 million installs:"
   ]
  },
  {
   "cell_type": "code",
   "execution_count": 94,
   "metadata": {
    "tags": []
   },
   "outputs": [
    {
     "output_type": "stream",
     "name": "stdout",
     "text": "WhatsApp Messenger : 1,000,000,000+\nimo beta free calls and text : 100,000,000+\nAndroid Messages : 100,000,000+\nGoogle Duo - High Quality Video Calls : 500,000,000+\nMessenger – Text and Video Chat for Free : 1,000,000,000+\nimo free video calls and chat : 500,000,000+\nSkype - free IM & video calls : 1,000,000,000+\nWho : 100,000,000+\nGO SMS Pro - Messenger, Free Themes, Emoji : 100,000,000+\nLINE: Free Calls & Messages : 500,000,000+\nGoogle Chrome: Fast & Secure : 1,000,000,000+\nFirefox Browser fast & private : 100,000,000+\nUC Browser - Fast Download Private & Secure : 500,000,000+\nGmail : 1,000,000,000+\nHangouts : 1,000,000,000+\nMessenger Lite: Free Calls & Messages : 100,000,000+\nKik : 100,000,000+\nKakaoTalk: Free Calls & Text : 100,000,000+\nOpera Mini - fast web browser : 100,000,000+\nOpera Browser: Fast and Secure : 100,000,000+\nTelegram : 100,000,000+\nTruecaller: Caller ID, SMS spam blocking & Dialer : 100,000,000+\nUC Browser Mini -Tiny Fast Private & Secure : 100,000,000+\nViber Messenger : 500,000,000+\nWeChat : 100,000,000+\nYahoo Mail – Stay Organized : 100,000,000+\nBBM - Free Calls & Messages : 100,000,000+\n"
    }
   ],
   "source": [
    "for app in android_final:\n",
    "    if app[1] == 'COMMUNICATION' and (app[5] == '1,000,000,000+'\n",
    "                                      or app[5] == '500,000,000+'\n",
    "                                      or app[5] == '100,000,000+'):\n",
    "        print(app[0], ':', app[5])"
   ]
  },
  {
   "cell_type": "markdown",
   "metadata": {},
   "source": [
    "If we removed all the communication apps that have over 100 million installs, the average would be reduced roughly ten times:"
   ]
  },
  {
   "cell_type": "code",
   "execution_count": 95,
   "metadata": {},
   "outputs": [
    {
     "output_type": "execute_result",
     "data": {
      "text/plain": "3603485.3884615386"
     },
     "metadata": {},
     "execution_count": 95
    }
   ],
   "source": [
    "under_100_m = []\n",
    "\n",
    "for app in android_final:\n",
    "    n_installs = app[5]\n",
    "    n_installs = n_installs.replace(',', '')\n",
    "    n_installs = n_installs.replace('+', '')\n",
    "    if (app[1] == 'COMMUNICATION') and (float(n_installs) < 100000000):\n",
    "        under_100_m.append(float(n_installs))\n",
    "        \n",
    "sum(under_100_m) / len(under_100_m)"
   ]
  },
  {
   "cell_type": "markdown",
   "metadata": {},
   "source": [
    "\n",
    "We see the same pattern for the video players category, which is the runner-up with 24,727,872 installs. The market is dominated by apps like Youtube, Google Play Movies & TV, or MX Player. The pattern is repeated for social apps (where we have giants like Facebook, Instagram, Google+, etc.), photography apps (Google Photos and other popular photo editors), or productivity apps (Microsoft Word, Dropbox, Google Calendar, Evernote, etc.).\n",
    "\n",
    "Again, the main concern is that these app genres might seem more popular than they really are. Moreover, these niches seem to be dominated by a few giants who are hard to compete against.\n",
    "\n",
    "The game genre seems pretty popular, but previously we found out this part of the market seems a bit saturated, so we'd like to come up with a different app recommendation if possible.\n",
    "\n",
    "The books and reference genre looks fairly popular as well, with an average number of installs of 8,767,811. It's interesting to explore this in more depth, since we found this genre has some potential to work well on the App Store, and our aim is to recommend an app genre that shows potential for being profitable on both the App Store and Google Play.\n",
    "\n",
    "Let's take a look at some of the apps from this genre and their number of installs:"
   ]
  },
  {
   "cell_type": "code",
   "execution_count": 96,
   "metadata": {
    "tags": []
   },
   "outputs": [
    {
     "output_type": "stream",
     "name": "stdout",
     "text": "E-Book Read - Read Book for free : 50,000+\nDownload free book with green book : 100,000+\nWikipedia : 10,000,000+\nCool Reader : 10,000,000+\nFree Panda Radio Music : 100,000+\nBook store : 1,000,000+\nFBReader: Favorite Book Reader : 10,000,000+\nEnglish Grammar Complete Handbook : 500,000+\nFree Books - Spirit Fanfiction and Stories : 1,000,000+\nGoogle Play Books : 1,000,000,000+\nAlReader -any text book reader : 5,000,000+\nOffline English Dictionary : 100,000+\nOffline: English to Tagalog Dictionary : 500,000+\nFamilySearch Tree : 1,000,000+\nCloud of Books : 1,000,000+\nRecipes of Prophetic Medicine for free : 500,000+\nReadEra – free ebook reader : 1,000,000+\nAnonymous caller detection : 10,000+\nEbook Reader : 5,000,000+\nLitnet - E-books : 100,000+\nRead books online : 5,000,000+\nEnglish to Urdu Dictionary : 500,000+\neBoox: book reader fb2 epub zip : 1,000,000+\nEnglish Persian Dictionary : 500,000+\nFlybook : 500,000+\nAll Maths Formulas : 1,000,000+\nAncestry : 5,000,000+\nHTC Help : 10,000,000+\nEnglish translation from Bengali : 100,000+\nPdf Book Download - Read Pdf Book : 100,000+\nFree Book Reader : 100,000+\neBoox new: Reader for fb2 epub zip books : 50,000+\nOnly 30 days in English, the guideline is guaranteed : 500,000+\nMoon+ Reader : 10,000,000+\nSH-02J Owner's Manual (Android 8.0) : 50,000+\nEnglish-Myanmar Dictionary : 1,000,000+\nGolden Dictionary (EN-AR) : 1,000,000+\nAll Language Translator Free : 1,000,000+\nAzpen eReader : 500,000+\nURBANO V 02 instruction manual : 100,000+\nBible : 100,000,000+\nC Programs and Reference : 50,000+\nC Offline Tutorial : 1,000+\nC Programs Handbook : 50,000+\nAmazon Kindle : 100,000,000+\nAab e Hayat Full Novel : 100,000+\nAldiko Book Reader : 10,000,000+\nGoogle I/O 2018 : 500,000+\nR Language Reference Guide : 10,000+\nLearn R Programming Full : 5,000+\nR Programing Offline Tutorial : 1,000+\nGuide for R Programming : 5+\nLearn R Programming : 10+\nR Quick Reference Big Data : 1,000+\nV Made : 100,000+\nWattpad 📖 Free Books : 100,000,000+\nDictionary - WordWeb : 5,000,000+\nGuide (for X-MEN) : 100,000+\nAC Air condition Troubleshoot,Repair,Maintenance : 5,000+\nAE Bulletins : 1,000+\nAe Allah na Dai (Rasa) : 10,000+\n50000 Free eBooks & Free AudioBooks : 5,000,000+\nAg PhD Field Guide : 10,000+\nAg PhD Deficiencies : 10,000+\nAg PhD Planting Population Calculator : 1,000+\nAg PhD Soybean Diseases : 1,000+\nFertilizer Removal By Crop : 50,000+\nA-J Media Vault : 50+\nAl-Quran (Free) : 10,000,000+\nAl Quran (Tafsir & by Word) : 500,000+\nAl Quran Indonesia : 10,000,000+\nAl'Quran Bahasa Indonesia : 10,000,000+\nAl Quran Al karim : 1,000,000+\nAl-Muhaffiz : 50,000+\nAl Quran : EAlim - Translations & MP3 Offline : 5,000,000+\nAl-Quran 30 Juz free copies : 500,000+\nKoran Read &MP3 30 Juz Offline : 1,000,000+\nHafizi Quran 15 lines per page : 1,000,000+\nQuran for Android : 10,000,000+\nSurah Al-Waqiah : 100,000+\nHisnul Al Muslim - Hisn Invocations & Adhkaar : 100,000+\nSatellite AR : 1,000,000+\nAudiobooks from Audible : 100,000,000+\nKinot & Eichah for Tisha B'Av : 10,000+\nAW Tozer Devotionals - Daily : 5,000+\nTozer Devotional -Series 1 : 1,000+\nThe Pursuit of God : 1,000+\nAY Sing : 5,000+\nAy Hasnain k Nana Milad Naat : 10,000+\nAy Mohabbat Teri Khatir Novel : 10,000+\nArizona Statutes, ARS (AZ Law) : 1,000+\nOxford A-Z of English Usage : 1,000,000+\nBD Fishpedia : 1,000+\nBD All Sim Offer : 10,000+\nYouboox - Livres, BD et magazines : 500,000+\nB&H Kids AR : 10,000+\nB y H Niños ES : 5,000+\nDictionary.com: Find Definitions for English Words : 10,000,000+\nEnglish Dictionary - Offline : 10,000,000+\nBible KJV : 5,000,000+\nBorneo Bible, BM Bible : 10,000+\nMOD Black for BM : 100+\nBM Box : 1,000+\nAnime Mod for BM : 100+\nNOOK: Read eBooks & Magazines : 10,000,000+\nNOOK Audiobooks : 500,000+\nNOOK App for NOOK Devices : 500,000+\nBrowsery by Barnes & Noble : 5,000+\nbp e-store : 1,000+\nBrilliant Quotes: Life, Love, Family & Motivation : 1,000,000+\nBR Ambedkar Biography & Quotes : 10,000+\nBU Alsace : 100+\nCatholic La Bu Zo Kam : 500+\nKhrifa Hla Bu (Solfa) : 10+\nKristian Hla Bu : 10,000+\nSA HLA BU : 1,000+\nLearn SAP BW : 500+\nLearn SAP BW on HANA : 500+\nCA Laws 2018 (California Laws and Codes) : 5,000+\nBootable Methods(USB-CD-DVD) : 10,000+\ncloudLibrary : 100,000+\nSDA Collegiate Quarterly : 500+\nSabbath School : 100,000+\nCypress College Library : 100+\nStats Royale for Clash Royale : 1,000,000+\nGATE 21 years CS Papers(2011-2018 Solved) : 50+\nLearn CT Scan Of Head : 5,000+\nEasy Cv maker 2018 : 10,000+\nHow to Write CV : 100,000+\nCW Nuclear : 1,000+\nCY Spray nozzle : 10+\nBibleRead En Cy Zh Yue : 5+\nCZ-Help : 5+\nModlitební knížka CZ : 500+\nGuide for DB Xenoverse : 10,000+\nGuide for DB Xenoverse 2 : 10,000+\nGuide for IMS DB : 10+\nDC HSEMA : 5,000+\nDC Public Library : 1,000+\nPainting Lulu DC Super Friends : 1,000+\nDictionary : 10,000,000+\nFix Error Google Playstore : 1,000+\nD. H. Lawrence Poems FREE : 1,000+\nBilingual Dictionary Audio App : 5,000+\nDM Screen : 10,000+\nwikiHow: how to do anything : 1,000,000+\nDr. Doug's Tips : 1,000+\nBible du Semeur-BDS (French) : 50,000+\nLa citadelle du musulman : 50,000+\nDV 2019 Entry Guide : 10,000+\nDV 2019 - EDV Photo & Form : 50,000+\nDV 2018 Winners Guide : 1,000+\nEB Annual Meetings : 1,000+\nEC - AP & Telangana : 5,000+\nTN Patta Citta & EC : 10,000+\nAP Stamps and Registration : 10,000+\nCompactiMa EC pH Calibration : 100+\nEGW Writings 2 : 100,000+\nEGW Writings : 1,000,000+\nBible with EGW Comments : 100,000+\nMy Little Pony AR Guide : 1,000,000+\nSDA Sabbath School Quarterly : 500,000+\nDuaa Ek Ibaadat : 5,000+\nSpanish English Translator : 10,000,000+\nDictionary - Merriam-Webster : 10,000,000+\nJW Library : 10,000,000+\nOxford Dictionary of English : Free : 10,000,000+\nEnglish Hindi Dictionary : 10,000,000+\nEnglish to Hindi Dictionary : 5,000,000+\nEP Research Service : 1,000+\nHymnes et Louanges : 100,000+\nEU Charter : 1,000+\nEU Data Protection : 1,000+\nEU IP Codes : 100+\nEW PDF : 5+\nBakaReader EX : 100,000+\nEZ Quran : 50,000+\nFA Part 1 & 2 Past Papers Solved Free – Offline : 5,000+\nLa Fe de Jesus : 1,000+\nLa Fe de Jesús : 500+\nLe Fe de Jesus : 500+\nFlorida - Pocket Brainbook : 1,000+\nFlorida Statutes (FL Code) : 1,000+\nEnglish To Shona Dictionary : 10,000+\nGreek Bible FP (Audio) : 1,000+\nGolden Dictionary (FR-AR) : 500,000+\nFanfic-FR : 5,000+\nBulgarian French Dictionary Fr : 10,000+\nChemin (fr) : 1,000+\nThe SCP Foundation DB fr nn5n : 1,000+\n"
    }
   ],
   "source": [
    "for app in android_final:\n",
    "    if app[1] == 'BOOKS_AND_REFERENCE':\n",
    "        print(app[0], ':', app[5])"
   ]
  },
  {
   "cell_type": "markdown",
   "metadata": {},
   "source": [
    "The book and reference genre includes a variety of apps: software for processing and reading ebooks, various collections of libraries, dictionaries, tutorials on programming or languages, etc. It seems there's still a small number of extremely popular apps that skew the average:"
   ]
  },
  {
   "cell_type": "code",
   "execution_count": 98,
   "metadata": {
    "tags": []
   },
   "outputs": [
    {
     "output_type": "stream",
     "name": "stdout",
     "text": "Google Play Books : 1,000,000,000+\nBible : 100,000,000+\nAmazon Kindle : 100,000,000+\nWattpad 📖 Free Books : 100,000,000+\nAudiobooks from Audible : 100,000,000+\n"
    }
   ],
   "source": [
    "for app in android_final:\n",
    "    if app[1] == 'BOOKS_AND_REFERENCE' and (app[5] == '1,000,000,000+'\n",
    "                                            or app[5] == '500,000,000+'\n",
    "                                            or app[5] == '100,000,000+'):\n",
    "        print(app[0], ':', app[5])"
   ]
  },
  {
   "cell_type": "markdown",
   "metadata": {},
   "source": [
    "However, it looks like there are only a few very popular apps, so this market still shows potential. Let's try to get some app ideas based on the kind of apps that are somewhere in the middle in terms of popularity (between 1,000,000 and 100,000,000 downloads):"
   ]
  },
  {
   "cell_type": "code",
   "execution_count": 99,
   "metadata": {
    "tags": []
   },
   "outputs": [
    {
     "output_type": "stream",
     "name": "stdout",
     "text": "Wikipedia : 10,000,000+\nCool Reader : 10,000,000+\nBook store : 1,000,000+\nFBReader: Favorite Book Reader : 10,000,000+\nFree Books - Spirit Fanfiction and Stories : 1,000,000+\nAlReader -any text book reader : 5,000,000+\nFamilySearch Tree : 1,000,000+\nCloud of Books : 1,000,000+\nReadEra – free ebook reader : 1,000,000+\nEbook Reader : 5,000,000+\nRead books online : 5,000,000+\neBoox: book reader fb2 epub zip : 1,000,000+\nAll Maths Formulas : 1,000,000+\nAncestry : 5,000,000+\nHTC Help : 10,000,000+\nMoon+ Reader : 10,000,000+\nEnglish-Myanmar Dictionary : 1,000,000+\nGolden Dictionary (EN-AR) : 1,000,000+\nAll Language Translator Free : 1,000,000+\nAldiko Book Reader : 10,000,000+\nDictionary - WordWeb : 5,000,000+\n50000 Free eBooks & Free AudioBooks : 5,000,000+\nAl-Quran (Free) : 10,000,000+\nAl Quran Indonesia : 10,000,000+\nAl'Quran Bahasa Indonesia : 10,000,000+\nAl Quran Al karim : 1,000,000+\nAl Quran : EAlim - Translations & MP3 Offline : 5,000,000+\nKoran Read &MP3 30 Juz Offline : 1,000,000+\nHafizi Quran 15 lines per page : 1,000,000+\nQuran for Android : 10,000,000+\nSatellite AR : 1,000,000+\nOxford A-Z of English Usage : 1,000,000+\nDictionary.com: Find Definitions for English Words : 10,000,000+\nEnglish Dictionary - Offline : 10,000,000+\nBible KJV : 5,000,000+\nNOOK: Read eBooks & Magazines : 10,000,000+\nBrilliant Quotes: Life, Love, Family & Motivation : 1,000,000+\nStats Royale for Clash Royale : 1,000,000+\nDictionary : 10,000,000+\nwikiHow: how to do anything : 1,000,000+\nEGW Writings : 1,000,000+\nMy Little Pony AR Guide : 1,000,000+\nSpanish English Translator : 10,000,000+\nDictionary - Merriam-Webster : 10,000,000+\nJW Library : 10,000,000+\nOxford Dictionary of English : Free : 10,000,000+\nEnglish Hindi Dictionary : 10,000,000+\nEnglish to Hindi Dictionary : 5,000,000+\n"
    }
   ],
   "source": [
    "\n",
    "for app in android_final:\n",
    "    if app[1] == 'BOOKS_AND_REFERENCE' and (app[5] == '1,000,000+'\n",
    "                                            or app[5] == '5,000,000+'\n",
    "                                            or app[5] == '10,000,000+'\n",
    "                                            or app[5] == '50,000,000+'):\n",
    "        print(app[0], ':', app[5])"
   ]
  },
  {
   "cell_type": "markdown",
   "metadata": {},
   "source": [
    "This niche seems to be dominated by software for processing and reading ebooks, as well as various collections of libraries and dictionaries, so it's probably not a good idea to build similar apps since there'll be some significant competition.\n",
    "\n",
    "We also notice there are quite a few apps built around the book Quran, which suggests that building an app around a popular book can be profitable. It seems that taking a popular book (perhaps a more recent book) and turning it into an app could be profitable for both the Google Play and the App Store markets.\n",
    "\n",
    "However, it looks like the market is already full of libraries, so we need to add some special features besides the raw version of the book. This might include daily quotes from the book, an audio version of the book, quizzes on the book, a forum where people can discuss the book, etc.\n",
    "\n",
    "## Conclusions\n",
    "\n",
    "In this project, we analyzed data about the App Store and Google Play mobile apps with the goal of recommending an app profile that can be profitable for both markets.\n",
    "\n",
    "We concluded that taking a popular book (perhaps a more recent book) and turning it into an app could be profitable for both the Google Play and the App Store markets. The markets are already full of libraries, so we need to add some special features besides the raw version of the book. This might include daily quotes from the book, an audio version of the book, quizzes on the book, a forum where people can discuss the book, etc.\n",
    "\n",
    "\n",
    "Made some changes!\n"
   ]
  }
 ],
 "metadata": {
  "language_info": {
   "codemirror_mode": {
    "name": "ipython",
    "version": 3
   },
   "file_extension": ".py",
   "mimetype": "text/x-python",
   "name": "python",
   "nbconvert_exporter": "python",
   "pygments_lexer": "ipython3",
   "version": 3
  },
  "orig_nbformat": 2,
  "kernelspec": {
   "name": "python_defaultSpec_1596557444747",
   "display_name": "Python 3.7.6 64-bit ('base': conda)"
  }
 },
 "nbformat": 4,
 "nbformat_minor": 2
}